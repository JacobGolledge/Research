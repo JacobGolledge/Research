{
 "cells": [
  {
   "cell_type": "code",
   "execution_count": 7,
   "metadata": {},
   "outputs": [
    {
     "name": "stdout",
     "output_type": "stream",
     "text": [
      "/home/jacob/PHOTOMETRY/BESTFIT_SEDs+EAZY/for_greg/SpARCS-0035_totalall_Ks_2771.obs_sed\n"
     ]
    }
   ],
   "source": [
    "import random\n",
    "import numpy as np\n",
    "from numpy.polynomial.polynomial import polyfit\n",
    "import matplotlib\n",
    "import matplotlib.pyplot as plt\n",
    "import csv\n",
    "import math\n",
    "import glob\n",
    "import errno\n",
    "import time\n",
    "import os\n",
    "import sys\n",
    "\n",
    "import astropy.io.fits as pyfits\n",
    "\n",
    "import drizzlepac\n",
    "import grizli\n",
    "\n",
    "from astropy.io import ascii\n",
    "\n",
    "path = \"/home/jacob/PHOTOMETRY/BESTFIT_SEDs+EAZY/for_greg/\"\n",
    "for file in os.listdir(path):\n",
    "    filename = os.fsdecode(file)\n",
    "    if filename.endswith(\".obs_sed\"):\n",
    "        \n",
    "#file1 = path + \"/SpARCS-0035_totalall_Ks_1.obs_sed\"\n",
    "#file1_dat = ascii.read(file1)\n",
    "#print(file1_dat)\n",
    "#files = glob.glob(path)\n",
    "#for name in files:\n",
    "    #try:\n",
    "        #ascii.read(name)\n",
    "        #pass # do what you want\n",
    "    #except IOError as exc:\n",
    "        #if exc.errno != errno.EISDIR:\n",
    "            #raise\n",
    "            \n",
    "#print(name)"
   ]
  },
  {
   "cell_type": "code",
   "execution_count": null,
   "metadata": {},
   "outputs": [],
   "source": []
  }
 ],
 "metadata": {
  "kernelspec": {
   "display_name": "Python 3",
   "language": "python",
   "name": "python3"
  },
  "language_info": {
   "codemirror_mode": {
    "name": "ipython",
    "version": 3
   },
   "file_extension": ".py",
   "mimetype": "text/x-python",
   "name": "python",
   "nbconvert_exporter": "python",
   "pygments_lexer": "ipython3",
   "version": "3.7.3"
  }
 },
 "nbformat": 4,
 "nbformat_minor": 2
}
