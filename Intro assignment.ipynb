{
 "cells": [
  {
   "cell_type": "code",
   "execution_count": null,
   "metadata": {},
   "outputs": [
    {
     "name": "stdout",
     "output_type": "stream",
     "text": [
      "5.864784559099437 37.15417109756095\n",
      "y= 5.864784559099437x+ 37.15417109756095\n"
     ]
    }
   ],
   "source": [
    "import matplotlib #plotpackage\n",
    "matplotlib.use('TkAgg') #graphicspackage\n",
    "import matplotlib.pyplot as plt #might be a redunancy\n",
    "import csv\n",
    "\n",
    "from statistics import mean\n",
    "import numpy as np\n",
    "from numpy.polynomial.polynomial import polyfit\n",
    "\n",
    "\n",
    "\n",
    "abscissa = []\t#coordinate systems\n",
    "ordinate = []\n",
    "\n",
    "with open('/home/jacob/Downloads/data.v3.txt', 'r') as datafile:\n",
    "\tplots = csv.reader(datafile)\n",
    "\tfirstline = datafile.readline()\n",
    "\tfor line in datafile:\n",
    "\t\tx, y, dy = line.split()\n",
    "\t\tabscissa.append(float(x))\n",
    "\t\tordinate.append(float(y))\n",
    "\n",
    "abscissa = np.array(abscissa)\n",
    "m, b = np.polyfit(abscissa, ordinate, 1)\n",
    "\n",
    "print(m, b)\n",
    "bestfunc = 'y= ' + str(m) + 'x+ ' + str(b)\n",
    "print(bestfunc)\n",
    "\n",
    "plt.plot(abscissa, ordinate, label='Data-line')\n",
    "plt.plot(abscissa, b + m * abscissa, '-', label='best-fit', color = 'orange')\n",
    "plt.xlabel('x')\n",
    "plt.ylabel('y')\n",
    "plt.title('Data')\n",
    "plt.legend()\n",
    "plt.show()"
   ]
  },
  {
   "cell_type": "code",
   "execution_count": null,
   "metadata": {},
   "outputs": [],
   "source": []
  }
 ],
 "metadata": {
  "kernelspec": {
   "display_name": "Python 3",
   "language": "python",
   "name": "python3"
  },
  "language_info": {
   "codemirror_mode": {
    "name": "ipython",
    "version": 3
   },
   "file_extension": ".py",
   "mimetype": "text/x-python",
   "name": "python",
   "nbconvert_exporter": "python",
   "pygments_lexer": "ipython3",
   "version": "3.7.3"
  }
 },
 "nbformat": 4,
 "nbformat_minor": 2
}
